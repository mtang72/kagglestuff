{
 "cells": [
  {
   "cell_type": "markdown",
   "metadata": {
    "_uuid": "0451499c94808b73452aa054397a4de5cb8dbcbb"
   },
   "source": [
    "### This kernel is my submission to the House Prices: Advanced Regression Technique tutorial dataset. It's my first time making a IPython notebook or working with Kaggle datasets so it's mostly for learning's sake and will follow the practices of others, but I'm excited to see what results it'll get.\n",
    "\n",
    "The steps I will walk through are:\n",
    "1. Data Summarization\n",
    "2. Data Cleaning\n",
    "3. Data Exploration\n",
    "4. Feature Engineering\n",
    "5. Trying different algorithms (current planned: linear & logistic regression, SVM, random forests)\n",
    "6. Comparing accuracy rates"
   ]
  },
  {
   "cell_type": "code",
   "execution_count": 1,
   "metadata": {
    "_uuid": "67d02777a10e6a5679fbd28a47801743e709304e"
   },
   "outputs": [],
   "source": [
    "#package imports\n",
    "import numpy as np\n",
    "import pandas as pd\n",
    "import matplotlib.pyplot as plt\n",
    "import seaborn as sns"
   ]
  },
  {
   "cell_type": "markdown",
   "metadata": {
    "_uuid": "998359febe3c62c3d4515841c088fdec67581f9c"
   },
   "source": [
    "# 1. Data Summarization"
   ]
  },
  {
   "cell_type": "code",
   "execution_count": 3,
   "metadata": {
    "_uuid": "43ce272462c6038dc41ce9ebd9825d8bc3926560"
   },
   "outputs": [
    {
     "data": {
      "text/html": [
       "<div>\n",
       "<style scoped>\n",
       "    .dataframe tbody tr th:only-of-type {\n",
       "        vertical-align: middle;\n",
       "    }\n",
       "\n",
       "    .dataframe tbody tr th {\n",
       "        vertical-align: top;\n",
       "    }\n",
       "\n",
       "    .dataframe thead th {\n",
       "        text-align: right;\n",
       "    }\n",
       "</style>\n",
       "<table border=\"1\" class=\"dataframe\">\n",
       "  <thead>\n",
       "    <tr style=\"text-align: right;\">\n",
       "      <th></th>\n",
       "      <th>Id</th>\n",
       "      <th>MSSubClass</th>\n",
       "      <th>MSZoning</th>\n",
       "      <th>LotFrontage</th>\n",
       "      <th>LotArea</th>\n",
       "      <th>Street</th>\n",
       "      <th>Alley</th>\n",
       "      <th>LotShape</th>\n",
       "      <th>LandContour</th>\n",
       "      <th>Utilities</th>\n",
       "      <th>...</th>\n",
       "      <th>PoolArea</th>\n",
       "      <th>PoolQC</th>\n",
       "      <th>Fence</th>\n",
       "      <th>MiscFeature</th>\n",
       "      <th>MiscVal</th>\n",
       "      <th>MoSold</th>\n",
       "      <th>YrSold</th>\n",
       "      <th>SaleType</th>\n",
       "      <th>SaleCondition</th>\n",
       "      <th>SalePrice</th>\n",
       "    </tr>\n",
       "  </thead>\n",
       "  <tbody>\n",
       "    <tr>\n",
       "      <th>0</th>\n",
       "      <td>1</td>\n",
       "      <td>60</td>\n",
       "      <td>RL</td>\n",
       "      <td>65.0</td>\n",
       "      <td>8450</td>\n",
       "      <td>Pave</td>\n",
       "      <td>NaN</td>\n",
       "      <td>Reg</td>\n",
       "      <td>Lvl</td>\n",
       "      <td>AllPub</td>\n",
       "      <td>...</td>\n",
       "      <td>0</td>\n",
       "      <td>NaN</td>\n",
       "      <td>NaN</td>\n",
       "      <td>NaN</td>\n",
       "      <td>0</td>\n",
       "      <td>2</td>\n",
       "      <td>2008</td>\n",
       "      <td>WD</td>\n",
       "      <td>Normal</td>\n",
       "      <td>208500</td>\n",
       "    </tr>\n",
       "    <tr>\n",
       "      <th>1</th>\n",
       "      <td>2</td>\n",
       "      <td>20</td>\n",
       "      <td>RL</td>\n",
       "      <td>80.0</td>\n",
       "      <td>9600</td>\n",
       "      <td>Pave</td>\n",
       "      <td>NaN</td>\n",
       "      <td>Reg</td>\n",
       "      <td>Lvl</td>\n",
       "      <td>AllPub</td>\n",
       "      <td>...</td>\n",
       "      <td>0</td>\n",
       "      <td>NaN</td>\n",
       "      <td>NaN</td>\n",
       "      <td>NaN</td>\n",
       "      <td>0</td>\n",
       "      <td>5</td>\n",
       "      <td>2007</td>\n",
       "      <td>WD</td>\n",
       "      <td>Normal</td>\n",
       "      <td>181500</td>\n",
       "    </tr>\n",
       "    <tr>\n",
       "      <th>2</th>\n",
       "      <td>3</td>\n",
       "      <td>60</td>\n",
       "      <td>RL</td>\n",
       "      <td>68.0</td>\n",
       "      <td>11250</td>\n",
       "      <td>Pave</td>\n",
       "      <td>NaN</td>\n",
       "      <td>IR1</td>\n",
       "      <td>Lvl</td>\n",
       "      <td>AllPub</td>\n",
       "      <td>...</td>\n",
       "      <td>0</td>\n",
       "      <td>NaN</td>\n",
       "      <td>NaN</td>\n",
       "      <td>NaN</td>\n",
       "      <td>0</td>\n",
       "      <td>9</td>\n",
       "      <td>2008</td>\n",
       "      <td>WD</td>\n",
       "      <td>Normal</td>\n",
       "      <td>223500</td>\n",
       "    </tr>\n",
       "    <tr>\n",
       "      <th>3</th>\n",
       "      <td>4</td>\n",
       "      <td>70</td>\n",
       "      <td>RL</td>\n",
       "      <td>60.0</td>\n",
       "      <td>9550</td>\n",
       "      <td>Pave</td>\n",
       "      <td>NaN</td>\n",
       "      <td>IR1</td>\n",
       "      <td>Lvl</td>\n",
       "      <td>AllPub</td>\n",
       "      <td>...</td>\n",
       "      <td>0</td>\n",
       "      <td>NaN</td>\n",
       "      <td>NaN</td>\n",
       "      <td>NaN</td>\n",
       "      <td>0</td>\n",
       "      <td>2</td>\n",
       "      <td>2006</td>\n",
       "      <td>WD</td>\n",
       "      <td>Abnorml</td>\n",
       "      <td>140000</td>\n",
       "    </tr>\n",
       "    <tr>\n",
       "      <th>4</th>\n",
       "      <td>5</td>\n",
       "      <td>60</td>\n",
       "      <td>RL</td>\n",
       "      <td>84.0</td>\n",
       "      <td>14260</td>\n",
       "      <td>Pave</td>\n",
       "      <td>NaN</td>\n",
       "      <td>IR1</td>\n",
       "      <td>Lvl</td>\n",
       "      <td>AllPub</td>\n",
       "      <td>...</td>\n",
       "      <td>0</td>\n",
       "      <td>NaN</td>\n",
       "      <td>NaN</td>\n",
       "      <td>NaN</td>\n",
       "      <td>0</td>\n",
       "      <td>12</td>\n",
       "      <td>2008</td>\n",
       "      <td>WD</td>\n",
       "      <td>Normal</td>\n",
       "      <td>250000</td>\n",
       "    </tr>\n",
       "  </tbody>\n",
       "</table>\n",
       "<p>5 rows × 81 columns</p>\n",
       "</div>"
      ],
      "text/plain": [
       "   Id  MSSubClass MSZoning  LotFrontage  LotArea Street Alley LotShape  \\\n",
       "0   1          60       RL         65.0     8450   Pave   NaN      Reg   \n",
       "1   2          20       RL         80.0     9600   Pave   NaN      Reg   \n",
       "2   3          60       RL         68.0    11250   Pave   NaN      IR1   \n",
       "3   4          70       RL         60.0     9550   Pave   NaN      IR1   \n",
       "4   5          60       RL         84.0    14260   Pave   NaN      IR1   \n",
       "\n",
       "  LandContour Utilities    ...     PoolArea PoolQC Fence MiscFeature MiscVal  \\\n",
       "0         Lvl    AllPub    ...            0    NaN   NaN         NaN       0   \n",
       "1         Lvl    AllPub    ...            0    NaN   NaN         NaN       0   \n",
       "2         Lvl    AllPub    ...            0    NaN   NaN         NaN       0   \n",
       "3         Lvl    AllPub    ...            0    NaN   NaN         NaN       0   \n",
       "4         Lvl    AllPub    ...            0    NaN   NaN         NaN       0   \n",
       "\n",
       "  MoSold YrSold  SaleType  SaleCondition  SalePrice  \n",
       "0      2   2008        WD         Normal     208500  \n",
       "1      5   2007        WD         Normal     181500  \n",
       "2      9   2008        WD         Normal     223500  \n",
       "3      2   2006        WD        Abnorml     140000  \n",
       "4     12   2008        WD         Normal     250000  \n",
       "\n",
       "[5 rows x 81 columns]"
      ]
     },
     "execution_count": 3,
     "metadata": {},
     "output_type": "execute_result"
    }
   ],
   "source": [
    "#train = pd.read_csv('../input/train.csv')\n",
    "train = pd.read_csv('train.csv')\n",
    "test = pd.read_csv('test.csv')\n",
    "#test = pd.read_csv('../input/test.csv')\n",
    "train.head()"
   ]
  },
  {
   "cell_type": "code",
   "execution_count": 5,
   "metadata": {
    "_uuid": "190ec7374dcfc2094b9e2e0d43376251aff81ff3"
   },
   "outputs": [
    {
     "name": "stdout",
     "output_type": "stream",
     "text": [
      "<class 'pandas.core.frame.DataFrame'>\n",
      "RangeIndex: 1460 entries, 0 to 1459\n",
      "Data columns (total 81 columns):\n",
      "Id               1460 non-null int64\n",
      "MSSubClass       1460 non-null int64\n",
      "MSZoning         1460 non-null object\n",
      "LotFrontage      1201 non-null float64\n",
      "LotArea          1460 non-null int64\n",
      "Street           1460 non-null object\n",
      "Alley            91 non-null object\n",
      "LotShape         1460 non-null object\n",
      "LandContour      1460 non-null object\n",
      "Utilities        1460 non-null object\n",
      "LotConfig        1460 non-null object\n",
      "LandSlope        1460 non-null object\n",
      "Neighborhood     1460 non-null object\n",
      "Condition1       1460 non-null object\n",
      "Condition2       1460 non-null object\n",
      "BldgType         1460 non-null object\n",
      "HouseStyle       1460 non-null object\n",
      "OverallQual      1460 non-null int64\n",
      "OverallCond      1460 non-null int64\n",
      "YearBuilt        1460 non-null int64\n",
      "YearRemodAdd     1460 non-null int64\n",
      "RoofStyle        1460 non-null object\n",
      "RoofMatl         1460 non-null object\n",
      "Exterior1st      1460 non-null object\n",
      "Exterior2nd      1460 non-null object\n",
      "MasVnrType       1452 non-null object\n",
      "MasVnrArea       1452 non-null float64\n",
      "ExterQual        1460 non-null object\n",
      "ExterCond        1460 non-null object\n",
      "Foundation       1460 non-null object\n",
      "BsmtQual         1423 non-null object\n",
      "BsmtCond         1423 non-null object\n",
      "BsmtExposure     1422 non-null object\n",
      "BsmtFinType1     1423 non-null object\n",
      "BsmtFinSF1       1460 non-null int64\n",
      "BsmtFinType2     1422 non-null object\n",
      "BsmtFinSF2       1460 non-null int64\n",
      "BsmtUnfSF        1460 non-null int64\n",
      "TotalBsmtSF      1460 non-null int64\n",
      "Heating          1460 non-null object\n",
      "HeatingQC        1460 non-null object\n",
      "CentralAir       1460 non-null object\n",
      "Electrical       1459 non-null object\n",
      "1stFlrSF         1460 non-null int64\n",
      "2ndFlrSF         1460 non-null int64\n",
      "LowQualFinSF     1460 non-null int64\n",
      "GrLivArea        1460 non-null int64\n",
      "BsmtFullBath     1460 non-null int64\n",
      "BsmtHalfBath     1460 non-null int64\n",
      "FullBath         1460 non-null int64\n",
      "HalfBath         1460 non-null int64\n",
      "BedroomAbvGr     1460 non-null int64\n",
      "KitchenAbvGr     1460 non-null int64\n",
      "KitchenQual      1460 non-null object\n",
      "TotRmsAbvGrd     1460 non-null int64\n",
      "Functional       1460 non-null object\n",
      "Fireplaces       1460 non-null int64\n",
      "FireplaceQu      770 non-null object\n",
      "GarageType       1379 non-null object\n",
      "GarageYrBlt      1379 non-null float64\n",
      "GarageFinish     1379 non-null object\n",
      "GarageCars       1460 non-null int64\n",
      "GarageArea       1460 non-null int64\n",
      "GarageQual       1379 non-null object\n",
      "GarageCond       1379 non-null object\n",
      "PavedDrive       1460 non-null object\n",
      "WoodDeckSF       1460 non-null int64\n",
      "OpenPorchSF      1460 non-null int64\n",
      "EnclosedPorch    1460 non-null int64\n",
      "3SsnPorch        1460 non-null int64\n",
      "ScreenPorch      1460 non-null int64\n",
      "PoolArea         1460 non-null int64\n",
      "PoolQC           7 non-null object\n",
      "Fence            281 non-null object\n",
      "MiscFeature      54 non-null object\n",
      "MiscVal          1460 non-null int64\n",
      "MoSold           1460 non-null int64\n",
      "YrSold           1460 non-null int64\n",
      "SaleType         1460 non-null object\n",
      "SaleCondition    1460 non-null object\n",
      "SalePrice        1460 non-null int64\n",
      "dtypes: float64(3), int64(35), object(43)\n",
      "memory usage: 924.0+ KB\n"
     ]
    }
   ],
   "source": [
    "train.info()"
   ]
  },
  {
   "cell_type": "code",
   "execution_count": 6,
   "metadata": {
    "_uuid": "efa25d95ded2c315fc3a972b6a54b84b66503255"
   },
   "outputs": [
    {
     "name": "stdout",
     "output_type": "stream",
     "text": [
      "<class 'pandas.core.frame.DataFrame'>\n",
      "RangeIndex: 1459 entries, 0 to 1458\n",
      "Data columns (total 80 columns):\n",
      "Id               1459 non-null int64\n",
      "MSSubClass       1459 non-null int64\n",
      "MSZoning         1455 non-null object\n",
      "LotFrontage      1232 non-null float64\n",
      "LotArea          1459 non-null int64\n",
      "Street           1459 non-null object\n",
      "Alley            107 non-null object\n",
      "LotShape         1459 non-null object\n",
      "LandContour      1459 non-null object\n",
      "Utilities        1457 non-null object\n",
      "LotConfig        1459 non-null object\n",
      "LandSlope        1459 non-null object\n",
      "Neighborhood     1459 non-null object\n",
      "Condition1       1459 non-null object\n",
      "Condition2       1459 non-null object\n",
      "BldgType         1459 non-null object\n",
      "HouseStyle       1459 non-null object\n",
      "OverallQual      1459 non-null int64\n",
      "OverallCond      1459 non-null int64\n",
      "YearBuilt        1459 non-null int64\n",
      "YearRemodAdd     1459 non-null int64\n",
      "RoofStyle        1459 non-null object\n",
      "RoofMatl         1459 non-null object\n",
      "Exterior1st      1458 non-null object\n",
      "Exterior2nd      1458 non-null object\n",
      "MasVnrType       1443 non-null object\n",
      "MasVnrArea       1444 non-null float64\n",
      "ExterQual        1459 non-null object\n",
      "ExterCond        1459 non-null object\n",
      "Foundation       1459 non-null object\n",
      "BsmtQual         1415 non-null object\n",
      "BsmtCond         1414 non-null object\n",
      "BsmtExposure     1415 non-null object\n",
      "BsmtFinType1     1417 non-null object\n",
      "BsmtFinSF1       1458 non-null float64\n",
      "BsmtFinType2     1417 non-null object\n",
      "BsmtFinSF2       1458 non-null float64\n",
      "BsmtUnfSF        1458 non-null float64\n",
      "TotalBsmtSF      1458 non-null float64\n",
      "Heating          1459 non-null object\n",
      "HeatingQC        1459 non-null object\n",
      "CentralAir       1459 non-null object\n",
      "Electrical       1459 non-null object\n",
      "1stFlrSF         1459 non-null int64\n",
      "2ndFlrSF         1459 non-null int64\n",
      "LowQualFinSF     1459 non-null int64\n",
      "GrLivArea        1459 non-null int64\n",
      "BsmtFullBath     1457 non-null float64\n",
      "BsmtHalfBath     1457 non-null float64\n",
      "FullBath         1459 non-null int64\n",
      "HalfBath         1459 non-null int64\n",
      "BedroomAbvGr     1459 non-null int64\n",
      "KitchenAbvGr     1459 non-null int64\n",
      "KitchenQual      1458 non-null object\n",
      "TotRmsAbvGrd     1459 non-null int64\n",
      "Functional       1457 non-null object\n",
      "Fireplaces       1459 non-null int64\n",
      "FireplaceQu      729 non-null object\n",
      "GarageType       1383 non-null object\n",
      "GarageYrBlt      1381 non-null float64\n",
      "GarageFinish     1381 non-null object\n",
      "GarageCars       1458 non-null float64\n",
      "GarageArea       1458 non-null float64\n",
      "GarageQual       1381 non-null object\n",
      "GarageCond       1381 non-null object\n",
      "PavedDrive       1459 non-null object\n",
      "WoodDeckSF       1459 non-null int64\n",
      "OpenPorchSF      1459 non-null int64\n",
      "EnclosedPorch    1459 non-null int64\n",
      "3SsnPorch        1459 non-null int64\n",
      "ScreenPorch      1459 non-null int64\n",
      "PoolArea         1459 non-null int64\n",
      "PoolQC           3 non-null object\n",
      "Fence            290 non-null object\n",
      "MiscFeature      51 non-null object\n",
      "MiscVal          1459 non-null int64\n",
      "MoSold           1459 non-null int64\n",
      "YrSold           1459 non-null int64\n",
      "SaleType         1458 non-null object\n",
      "SaleCondition    1459 non-null object\n",
      "dtypes: float64(11), int64(26), object(43)\n",
      "memory usage: 912.0+ KB\n"
     ]
    }
   ],
   "source": [
    "test.info()"
   ]
  },
  {
   "cell_type": "markdown",
   "metadata": {
    "_uuid": "199898a7bb94ff21ad8a13774c0ab2e4589d5c45"
   },
   "source": [
    "### Observations:\n",
    "- One response variable, SalePrice\n",
    "- Only 7 houses have pools, with PoolArea != 0 and PoolQC not NaN\n",
    "- Only ~271 houses have fences, 91 have alleys, 54 \"MiscFeature\", 770 fireplaces\n",
    "- Lower amts of null vals in LotFrontage, MasVnrType, MasVnrArea, BsmtQual, BsmtCont, BsmtExposure, BsmtFinType1, BsmtFinSF1, BsmtFinType2, Electrical, FireplaceQu, garage quals (GarageCars and GarageArea are 0 when other garage quals are null)\n",
    "- Test cols that are missing data: LotFrontage, Alley, Utilities, Exterior1st and 2nd, MasVnrType and Area, Bsmt qualities, Garage qualities, Functional, FireplaceQu, Pool quals, Fence, Misc quals, SaleType"
   ]
  },
  {
   "cell_type": "markdown",
   "metadata": {},
   "source": [
    "# 2. Data Exploration"
   ]
  },
  {
   "cell_type": "markdown",
   "metadata": {},
   "source": [
    "Checking classes for skew. Uh...guess I'll just analyze EVERY categorical variable."
   ]
  },
  {
   "cell_type": "code",
   "execution_count": 10,
   "metadata": {},
   "outputs": [
    {
     "data": {
      "image/png": "[encoded data removed]",
      "text/plain": [
       "<Figure size 504x504 with 16 Axes>"
      ]
     },
     "metadata": {},
     "output_type": "display_data"
    }
   ],
   "source": [
    "f, axes = plt.subplots(4,4,figsize=(7,7))\n",
    "sns.countplot(train.MSSubClass,ax=axes[0,0])\n",
    "sns.countplot(train.MSZoning,ax=axes[0,1])\n",
    "sns.countplot(train.Street,ax=axes[0,2])\n",
    "sns.countplot(train.Alley,ax=axes[0,3])\n",
    "sns.countplot(train.LotShape,ax=axes[1,0])\n",
    "sns.countplot(train.LandContour,ax=axes[1,1])\n",
    "sns.countplot(train.Utilities,ax=axes[1,2])\n",
    "sns.countplot(train.LotConfig,ax=axes[1,3])\n",
    "sns.countplot(train.LandSlope,ax=axes[2,0])\n",
    "sns.countplot(train.Neighborhood,ax=axes[2,1])\n",
    "sns.countplot(train.Condition1,ax=axes[2,2])\n",
    "sns.countplot(train.Condition2,ax=axes[2,3])\n",
    "sns.countplot(train.BldgType,ax=axes[3,0])\n",
    "sns.countplot(train.HouseStyle,ax=axes[3,1])\n",
    "sns.countplot(train.RoofStyle,ax=axes[3,2])\n",
    "sns.countplot(train.RoofMatl,ax=axes[3,3])\n",
    "f.tight_layout()\n",
    "plt.show()"
   ]
  },
  {
   "cell_type": "markdown",
   "metadata": {
    "_uuid": "b0ac4302606254909e2a3405344c44ab2976eda2"
   },
   "source": [
    "# 2. Data Cleaning"
   ]
  },
  {
   "cell_type": "markdown",
   "metadata": {
    "_uuid": "0031cfb26c0e13d44a7dde2ce6c6d1cd911feaf2"
   },
   "source": [
    "Certain features being missing would be significant to a buyer's judgement. Therefore, we will fill in those in with 0s for NaN values to represent absence. Even the categorical values are filled with 0s, seeing as the other categories will be changed to ints for regression anyways."
   ]
  },
  {
   "cell_type": "code",
   "execution_count": null,
   "metadata": {
    "_uuid": "a4bbd10662fc3341b2e9a5b76a0a11ad618f05c6"
   },
   "outputs": [],
   "source": [
    "train.fillna(0,inplace=True)\n",
    "test.fillna(0,inplace=True)"
   ]
  },
  {
   "cell_type": "markdown",
   "metadata": {
    "_uuid": "7c9e904f6c528115d581705ec205c180439d6175"
   },
   "source": [
    "Check to ensure no null values remain."
   ]
  },
  {
   "cell_type": "code",
   "execution_count": null,
   "metadata": {
    "_uuid": "a2f2cd68919113da487f0cd4674e6d776dd1b404",
    "scrolled": true
   },
   "outputs": [],
   "source": [
    "print(\"Train Null Values\")\n",
    "print(train.isnull().sum().sum())\n",
    "print(\"Test Null Values\")\n",
    "print(test.isnull().sum().sum())"
   ]
  },
  {
   "cell_type": "markdown",
   "metadata": {
    "_uuid": "e874693685e5f70826e59ceb140d5b559dfbef4d"
   },
   "source": [
    "So prior to this, I tried manually analyzing and picking out features to remove. That is a pain. Let's experiment instead with four sklearn methods of feature streamlining: SelectKBest, RFE, PCA, and Extra Trees."
   ]
  },
  {
   "cell_type": "markdown",
   "metadata": {
    "_uuid": "77db84916a6686064861f39e7cd160be381a36c5"
   },
   "source": [
    "### Desired Number of Features"
   ]
  },
  {
   "cell_type": "markdown",
   "metadata": {
    "_uuid": "a0830571553fba233e17ac3301cfe79008b410f2"
   },
   "source": [
    "Let's take a look at the features of our data:"
   ]
  },
  {
   "cell_type": "code",
   "execution_count": null,
   "metadata": {
    "_uuid": "d3fb19c6bea6c55cd07223aa9afa80a91443ec67"
   },
   "outputs": [],
   "source": [
    "train.info()"
   ]
  },
  {
   "cell_type": "markdown",
   "metadata": {
    "_uuid": "368cfe0608eeca7fdf4ec1c00454edbe363fbf1e"
   },
   "source": [
    "ID is not a feature, so removing that we have 80 features. Skimming over and looking at the number of keyword redundancies we can first estimate that we could do with just 1/4rd (20) of the present features. This figure can be adjusted later."
   ]
  },
  {
   "cell_type": "code",
   "execution_count": null,
   "metadata": {
    "_uuid": "ef5ed7568e97a392a03d71d301f6176a77dec63b"
   },
   "outputs": [],
   "source": [
    "train.drop(columns='Id',inplace=True)"
   ]
  },
  {
   "cell_type": "markdown",
   "metadata": {
    "_uuid": "14bd5d16c3fe61bbe12b33047aace24e3152ef1b"
   },
   "source": [
    "### First Run"
   ]
  },
  {
   "cell_type": "markdown",
   "metadata": {
    "_uuid": "5ee9cccafd3e5287085ee90f04ad3c3fdca32714"
   },
   "source": [
    "We're first going to run the random forests model to see how bad overfitting is currently, and to get the importance of each feature in order to take the top 20."
   ]
  },
  {
   "cell_type": "code",
   "execution_count": null,
   "metadata": {
    "_uuid": "455706c284c5f7f7b5315f9417f6bec5c25828ca"
   },
   "outputs": [],
   "source": [
    "from sklearn.model_selection import train_test_split\n",
    "train = pd.get_dummies(train)\n",
    "X = train.drop(columns='SalePrice')\n",
    "y = train.SalePrice\n",
    "X_train,X_val,y_train,y_val = train_test_split(X,y,random_state=0)"
   ]
  },
  {
   "cell_type": "markdown",
   "metadata": {
    "_uuid": "e8464f76c77884a6b4e394c03e07c4fd4692c58b"
   },
   "source": [
    "Importing packages:"
   ]
  },
  {
   "cell_type": "code",
   "execution_count": null,
   "metadata": {
    "_uuid": "4d98ef4ceff6c6a17c9062eed55d1ea1a0ecc105"
   },
   "outputs": [],
   "source": [
    "from sklearn.ensemble import RandomForestClassifier\n",
    "from sklearn.metrics import accuracy_score, mean_absolute_error"
   ]
  },
  {
   "cell_type": "markdown",
   "metadata": {
    "_uuid": "03962cbe6120b3a4dd28695f1eca272eb7810b55"
   },
   "source": [
    "Setting up, fitting and measuring accuracy of model:"
   ]
  },
  {
   "cell_type": "code",
   "execution_count": null,
   "metadata": {
    "_uuid": "24b76c282c3209295a21a076d63aec80a675efed"
   },
   "outputs": [],
   "source": [
    "def rfwithval(xt, yt, xv, yv,maxfeat=\"auto\",maxnd=None,maxdp=None,ntrees=10):\n",
    "    forest = RandomForestClassifier(random_state=1,max_features=maxfeat,max_leaf_nodes=maxnd,max_depth=maxdp,n_estimators=ntrees)\n",
    "    forest.fit(xt, yt)\n",
    "    train_predictions = forest.predict(xt)\n",
    "    val_predictions = forest.predict(xv)\n",
    "    print(\"Training MAE: {} | Validation MAE: {}\"\\\n",
    "          .format(mean_absolute_error(yt,train_predictions),mean_absolute_error(yv,val_predictions)))\n",
    "    return forest\n",
    "    \n",
    "forest = rfwithval(X_train,y_train,X_val,y_val)"
   ]
  },
  {
   "cell_type": "markdown",
   "metadata": {
    "_uuid": "4f7d61fb00e9e6040e1405b4ce651fbdbb6d27d8"
   },
   "source": [
    "So there's room for improvement. Let's see if we can fix this by fiddling with maximum features sampled, maximum leaf nodes, maximum tree depth, and number of trees."
   ]
  },
  {
   "cell_type": "markdown",
   "metadata": {
    "_uuid": "8326eb9a28223d1e185d45606663b86e4e251111"
   },
   "source": [
    "# 3. Tuning the Random Forest"
   ]
  },
  {
   "cell_type": "markdown",
   "metadata": {
    "_uuid": "18b66407aec8a38c509378ce332c63ae062a2394"
   },
   "source": [
    "### Features Sampled"
   ]
  },
  {
   "cell_type": "code",
   "execution_count": null,
   "metadata": {
    "_uuid": "21763e0ff88b65098ef8b2da26b4707304485674"
   },
   "outputs": [],
   "source": [
    "feats = [4,8,16,32,64]\n",
    "for item in feats:\n",
    "    print(\"{} features sampled\".format(item))\n",
    "    forest1 = rfwithval(X_train,y_train,X_val,y_val,maxfeat=item)"
   ]
  },
  {
   "cell_type": "markdown",
   "metadata": {
    "_uuid": "5b3bfe24fda882cc2223784cfea44aeff1fa4a33"
   },
   "source": [
    "Not much of a difference is made."
   ]
  },
  {
   "cell_type": "markdown",
   "metadata": {
    "_uuid": "f6995b10c3afb599fa7d593193bd1497f9719f29"
   },
   "source": [
    "### Leaf Nodes"
   ]
  },
  {
   "cell_type": "code",
   "execution_count": null,
   "metadata": {
    "_uuid": "acc06d55eb667c401201d3dd97f484ef16e03b11"
   },
   "outputs": [],
   "source": [
    "nds = [3,30,300,3000,30000]\n",
    "for item in nds:\n",
    "    print(\"{} nodes\".format(item))\n",
    "    forest1 = rfwithval(X_train,y_train,X_val,y_val,maxnd=item)"
   ]
  },
  {
   "cell_type": "markdown",
   "metadata": {
    "_uuid": "1733fba259390e42cbc301c963fec29f95ecb34b"
   },
   "source": [
    "Maximum 300 leaf nodes minimizes validation MAE substantially but also is far from the minimum training MAE."
   ]
  },
  {
   "cell_type": "markdown",
   "metadata": {
    "_uuid": "c84971fe048e8fcd03c09806eda68b59a288f6af"
   },
   "source": [
    "### Depth"
   ]
  },
  {
   "cell_type": "code",
   "execution_count": null,
   "metadata": {
    "_uuid": "cb902e20e4b7a4fc035e9dbeb2f909971496604e"
   },
   "outputs": [],
   "source": [
    "dps = [3,9,27,81,243]\n",
    "for item in dps:\n",
    "    print(\"{} depth\".format(item))\n",
    "    forest1 = rfwithval(X_train,y_train,X_val,y_val,maxdp=item)"
   ]
  },
  {
   "cell_type": "markdown",
   "metadata": {
    "_uuid": "2f9c06e56793c6f9c8c27c5813c386313edd6ac3"
   },
   "source": [
    "Maximum depth of 27 minimizes validation MAE substantially and does not have minimum training MAE but has not as bad of an increase."
   ]
  },
  {
   "cell_type": "markdown",
   "metadata": {
    "_uuid": "51cbddc1786de436351962d8b2ac73d495ab9b4c"
   },
   "source": [
    "### Number of Trees"
   ]
  },
  {
   "cell_type": "code",
   "execution_count": null,
   "metadata": {
    "_uuid": "27aff562dadb7eecc71545fee300cadccf867562"
   },
   "outputs": [],
   "source": [
    "nums = [5,10,20,40,80]\n",
    "for item in nums:\n",
    "    print(\"{} trees\".format(item))\n",
    "    forest1 = rfwithval(X_train,y_train,X_val,y_val,ntrees=item)"
   ]
  },
  {
   "cell_type": "markdown",
   "metadata": {
    "_uuid": "bdf53a65fb70b7246c5ca96a185ce55c87d81c58"
   },
   "source": [
    "Increasing the number of trees eliminates training MAE but doesn't do much for validation MAE, and also increases training time substantially."
   ]
  },
  {
   "cell_type": "markdown",
   "metadata": {
    "_uuid": "eecfe3e5b7c2f1921258c0c78b31e1d5023b11c0"
   },
   "source": [
    "## Another Idea: Using the Feature Rankings from RandomForestClassifier"
   ]
  },
  {
   "cell_type": "markdown",
   "metadata": {
    "_uuid": "bbea2c46f40c6bd222183cb0f763d51a0ab6afd1"
   },
   "source": [
    "Another way to reduce overfitting is by reducing the number of features input into the model. When a random forest classifier is fit, it also assigns an importance score to each feature. Let's see if we can reduce overfitting by only taking n highest importance features."
   ]
  },
  {
   "cell_type": "code",
   "execution_count": null,
   "metadata": {
    "_uuid": "e1326e85f7e39f3fbfd502359d42242e28a8c2f0"
   },
   "outputs": [],
   "source": [
    "#Get scores of features\n",
    "imps = forest.feature_importances_"
   ]
  },
  {
   "cell_type": "code",
   "execution_count": null,
   "metadata": {
    "_uuid": "f9f9e7134cb778a67c762e7df267d25cc5378ea1"
   },
   "outputs": [],
   "source": [
    "def featurereducedforest(df, imps, cut):\n",
    "    #Get cutoff for top n scores\n",
    "    cutoff = min(sorted(imps)[-cut:])\n",
    "    #Get indexes of top n\n",
    "    inds = [i for i in range(len(imps)) if imps[i]>=cutoff]\n",
    "    newdict = {i:df.iloc[:,i] for i in inds}\n",
    "    train1 = pd.DataFrame(newdict, columns=inds)\n",
    "    X_train,X_val,y_train,y_val = train_test_split(df,y,random_state=0)\n",
    "    return rfwithval(X_train,y_train,X_val,y_val)"
   ]
  },
  {
   "cell_type": "code",
   "execution_count": null,
   "metadata": {
    "_uuid": "7c846e99ac87993b5e4aedbb5eba5bc2d444a2ad"
   },
   "outputs": [],
   "source": [
    "feats = [5,10,20,40,80]\n",
    "for item in feats:\n",
    "    print(\"{} features\".format(item))\n",
    "    forest1 = featurereducedforest(X,imps,item)"
   ]
  },
  {
   "cell_type": "markdown",
   "metadata": {
    "_uuid": "73f47ce3db7bf164df43fadf51c8ee21d827c43e"
   },
   "source": [
    "Not much of a difference."
   ]
  },
  {
   "cell_type": "markdown",
   "metadata": {
    "_uuid": "1fc4b725aa876c0450482c8359aaa537f32d0af4"
   },
   "source": [
    "# 4. Running With the Best Tuning"
   ]
  },
  {
   "cell_type": "markdown",
   "metadata": {
    "_uuid": "802985076816f7d53604cbdfa30cf1a2ab1b5d2c"
   },
   "source": [
    "Let's try combining the overfitting reduction measures above."
   ]
  },
  {
   "cell_type": "code",
   "execution_count": null,
   "metadata": {
    "_uuid": "e04e183f6a3e932e4de854162f930160b75ff494"
   },
   "outputs": [],
   "source": [
    "forest1 = rfwithval(X_train,y_train,X_val,y_val,maxnd=300,maxdp=27)"
   ]
  },
  {
   "cell_type": "code",
   "execution_count": null,
   "metadata": {
    "_uuid": "4c5d7e5190125196ede875536eb2db594333af5c"
   },
   "outputs": [],
   "source": [
    "forest1 = rfwithval(X_train,y_train,X_val,y_val,maxdp=27,ntrees=80)"
   ]
  },
  {
   "cell_type": "code",
   "execution_count": null,
   "metadata": {
    "_uuid": "2233a7a7e2ff0517eb32db2f305f413f6034a159"
   },
   "outputs": [],
   "source": [
    "forest1 = rfwithval(X_train,y_train,X_val,y_val,maxnd=300,ntrees=80)"
   ]
  },
  {
   "cell_type": "markdown",
   "metadata": {
    "_uuid": "b8e88f64cc779b05356842d11a4217f67e7163ad"
   },
   "source": [
    "None of the reduction measures work well in combination. So we'll go with capping the max depth at 27."
   ]
  },
  {
   "cell_type": "code",
   "execution_count": null,
   "metadata": {
    "_uuid": "1dd4addc6c0bdcd5ea86e4c616fc84c309465c93"
   },
   "outputs": [],
   "source": [
    "forest = RandomForestClassifier(random_state=1,max_depth=27)\n",
    "X_test = pd.get_dummies(test.drop(columns='Id'))\n",
    "X, X_test = X.align(X_test,join='outer',axis=1,fill_value=0)\n",
    "forest.fit(X,y)\n",
    "test_preds = forest.predict(X_test)\n",
    "output = pd.DataFrame({'Id':test.Id, 'SalePrice':test_preds})\n",
    "output.to_csv('submission.csv',index=False)"
   ]
  },
  {
   "cell_type": "markdown",
   "metadata": {
    "_uuid": "e2754676f5c6cff13576da4a74709b2447b03320"
   },
   "source": [
    "# 5. What in the fuck"
   ]
  },
  {
   "cell_type": "markdown",
   "metadata": {
    "_uuid": "bc384562a7f9513410889ae147fdf504c3109920"
   },
   "source": [
    "Somehow, I performed worse on this than in the tutorial model. Some more feature engineering will have to be done after all."
   ]
  },
  {
   "cell_type": "markdown",
   "metadata": {
    "_uuid": "b404415423feb78d1662dad4f608208f143b2832"
   },
   "source": [
    "# 6. Feature Engineering"
   ]
  },
  {
   "cell_type": "code",
   "execution_count": null,
   "metadata": {
    "_uuid": "aba465e8445a385f3724c192b552dfc6ac6e8e89"
   },
   "outputs": [],
   "source": []
  }
 ],
 "metadata": {
  "kernelspec": {
   "display_name": "Python 3",
   "language": "python",
   "name": "python3"
  },
  "language_info": {
   "codemirror_mode": {
    "name": "ipython",
    "version": 3
   },
   "file_extension": ".py",
   "mimetype": "text/x-python",
   "name": "python",
   "nbconvert_exporter": "python",
   "pygments_lexer": "ipython3",
   "version": "3.7.0"
  }
 },
 "nbformat": 4,
 "nbformat_minor": 1
}
